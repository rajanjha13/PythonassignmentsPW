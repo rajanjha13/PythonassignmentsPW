{
  "nbformat": 4,
  "nbformat_minor": 0,
  "metadata": {
    "colab": {
      "provenance": []
    },
    "kernelspec": {
      "name": "python3",
      "display_name": "Python 3"
    },
    "language_info": {
      "name": "python"
    }
  },
  "cells": [
    {
      "cell_type": "markdown",
      "source": [
        "#Python Basics"
      ],
      "metadata": {
        "id": "tVFssTcrC6DK"
      }
    },
    {
      "cell_type": "markdown",
      "source": [
        "#Theory Question's\n",
        "\n",
        "1. What is Python, and why is it popular ?\n",
        "  ->  Python is a high-level, general-purpose programming language known for its readability, simplicity, and versatility. It was created by Guido van Rossum and first released in 1991, designed to be easy to learn and use, even for beginners. Python's syntax is straightforward and resembles standard English, which lowers the barrier to entry for new programmers and makes code easier to understand and maintain.\n",
        "\n",
        "  Python is popular because :\n",
        "    Easy to Learn and Use: Python’s simple syntax and readability make it accessible for beginners and efficient for experienced developers.\n",
        "    \n",
        "    Versatility: Python is a general-purpose language used in web development, data science, machine learning, automation, software development, and more.\n",
        "\n",
        "    Large Supportive Community: An active global community provides extensive documentation, tutorials, and third-party libraries, making problem-solving and learning easier.\n",
        "\n",
        "    Open Source and Cross-Platform: Python is free to use, runs on all major operating systems, and is supported by a vast ecosystem of libraries and frameworks.\n",
        "\n",
        "    Productivity and Speed: Its design allows developers to write less code to accomplish more, speeding up development time.\n",
        "\n",
        "    Industry and Academic Adoption: Python is widely used in both industry (by companies like Google, Netflix, and NASA) and academia, often introduced as the first programming language in schools and universities\n",
        "\n",
        "2. What is an interpreter in Python?\n",
        "  ->  A Python interpreter is a program that reads and executes Python code, converting it into instructions the computer can understand and run. Unlike a compiler, which translates the entire program into machine code before execution, the Python interpreter processes and executes code line by line, making it possible to test and run code interactively or from script files\n",
        "\n",
        "3. What are pre-defined keywords in Python?\n",
        "  ->  Pre-defined keywords in Python are special reserved words that have specific meanings and purposes in the language. These keywords are part of Python’s syntax and cannot be used as variable names, function names, or any other identifiers. They help define the structure and flow of Python programs.\n",
        "\n",
        "  Examples of Python keywords include:\n",
        "\n",
        "  False\n",
        "\n",
        "  None\n",
        "\n",
        "  True\n",
        "\n",
        "  and\n",
        "\n",
        "3. Can keywords be used as variable names?\n",
        "  -> No, keywords cannot be used as variable names in Python. Keywords are reserved words that define the language's syntax and structure, so using them as variable names will result in a syntax error. For example, trying to assign a value to class or for as a variable name will cause an error because these are Python keywords.\n",
        "\n",
        "  If you need a variable name similar to a keyword, a common practice is to add an underscore (e.g., class_) to avoid conflicts.\n",
        "\n",
        "4. What is mutability in Python?\n",
        "  -> Mutability in Python refers to whether an object’s value can be changed after it is created.\n",
        "\n",
        "  Mutable objects can be changed in place without creating a new object. Examples include lists, dictionaries, and sets. You can add, remove, or modify their contents, and their identity (memory location) remains the same.\n",
        "\n",
        "  Immutable objects cannot be changed after creation. Any operation that seems to modify them actually creates a new object. Examples include strings, tuples, and numbers (integers, floats)\n",
        "\n",
        "6. Why are lists mutable, but tuples are immutable?\n",
        "  -> Lists are mutable in Python because they are designed to allow changes to their contents after creation, such as adding, removing, or modifying elements. This flexibility makes them ideal for situations where the data may need to be updated or changed frequently.\n",
        "\n",
        "  Tuples, on the other hand, are immutable by design. Once a tuple is created, its contents cannot be changed, added to, or removed. This immutability is intentional to ensure data integrity, making tuples suitable for storing fixed collections of items that should not be altered, such as coordinates or constant values. The immutability of tuples also allows them to be used as keys in dictionaries and makes them more memory-efficient and faster to access compared to lists.\n",
        "\n",
        "7. What is the difference between “==” and “is” operators in Python?\n",
        "  -> The difference between == and is operators in Python is:\n",
        "\n",
        "  == (Equality Operator): Checks if the values of two objects are equal, meaning their contents are the same, even if they are different objects in memory.\n",
        "\n",
        "  is (Identity Operator): Checks if two variables point to the exact same object in memory (i.e., they have the same identity).\n",
        "\n",
        "  Example:\n",
        "\n",
        "python\n",
        "a = [1, 2, 3]\n",
        "b = [1, 2, 3]\n",
        "c = a\n",
        "\n",
        "print(a == b)  # True  (values are equal)\n",
        "print(a is b)  # False (different objects)\n",
        "print(a is c)  # True  (same object)\n",
        "Use == to compare values, and is to check if two variables reference the same object.\n",
        "\n",
        "8. What are logical operators in Python?\n",
        " -> Logical operators in Python are used to combine or modify conditional statements, allowing you to build complex decision-making logic. There are three main logical operators:\n",
        "\n",
        " and: Returns True if both conditions are true.\n",
        "\n",
        " or: Returns True if at least one condition is true.\n",
        "\n",
        " not: Reverses the result; returns True if the condition is false, and vice versa.\n",
        "\n",
        " Example:\n",
        "\n",
        "python\n",
        "x = 5\n",
        "print(x > 2 and x < 10)  # True (both conditions are true)\n",
        "print(x < 2 or x > 3)    # True (one condition is true)\n",
        "print(not(x > 6))        # True (x > 6 is False, so not makes it True)\n",
        "These operators are essential for controlling program flow and making decisions in Python code\n",
        "\n",
        "9.  What is type casting in Python?\n",
        " -> Type casting in Python is the process of converting a variable from one data type to another. This is useful when you want to perform operations that require specific data types or when you need to interpret data differently. Python supports two main types of type casting:\n",
        "\n",
        "Explicit Type Casting: You manually convert a variable’s data type using built-in functions like int(), float(), str(), etc. For example, converting a string \"3\" to an integer 3 using int(\"3\").\n",
        "\n",
        "Implicit Type Casting: Python automatically converts one data type to another during operations to avoid data loss, such as converting an integer to a float when adding an integer and a float.\n",
        "\n",
        "Common casting functions:\n",
        "\n",
        "Function\tConverts to\tExample\n",
        "int()\tInteger\tint(\"3\") → 3\n",
        "float()\tFloating-point\tfloat(2) → 2.0\n",
        "str()\tString\tstr(5) → \"5\"\n",
        "Example of explicit casting:\n",
        "\n",
        "python\n",
        "num_str = \"12\"\n",
        "num_int = int(num_str)  # Converts string to integer\n",
        "result = num_int + 8    # Now addition works correctly\n",
        "print(result)           # Output: 20\n",
        "This process helps Python handle data flexibly and allows you to control data types explicitly when needed\n",
        "\n",
        "\n",
        "10. What is the difference between implicit and explicit type casting?\n",
        " -> The difference between implicit and explicit type casting in Python is:\n",
        "\n",
        "Implicit Type Casting: Python automatically converts one data type to another during an operation, without any action required from the programmer. For example, when adding an integer and a float, Python will convert the integer to a float to avoid data loss.\n",
        "\n",
        "Explicit Type Casting: The programmer manually converts a data type using built-in functions like int(), float(), or str(). This is also called typecasting and is used when you need to control the conversion process, such as converting user input (a string) to an integer for calculations\n",
        "\n",
        "11. What is the purpose of conditional statements in Python?\n",
        " -> The purpose of conditional statements in Python is to control the flow of a program by allowing it to make decisions and execute different blocks of code based on whether certain conditions are true or false. This enables your program to respond dynamically to different inputs or situations, rather than always following the same sequence of instructions.\n",
        "\n",
        " For example, using if, elif, and else statements, you can:\n",
        "\n",
        " Check if a number is positive, negative, or zero and print different messages accordingly.\n",
        "\n",
        " Assign grades based on a score.\n",
        "\n",
        " Decide what action to take based on user input or program state\n",
        "\n",
        " 12. How does the elif statement work?\n",
        "  -> The elif statement in Python stands for \"else if\" and is used to check additional conditions after an initial if statement. When you have multiple possible conditions, you can use as many elif statements as needed between the if and an optional else.\n",
        "\n",
        "How it works:\n",
        "\n",
        "Python evaluates the if condition first.\n",
        "\n",
        "If the if condition is False, it checks the first elif condition.\n",
        "\n",
        "If an elif condition is True, its block executes and the rest are skipped.\n",
        "\n",
        "If none of the if or elif conditions are True, the else block (if present) will execute.\n",
        "\n",
        "Example:\n",
        "\n",
        "python\n",
        "x = 10\n",
        "\n",
        "if x > 10:\n",
        "    print(\"x is greater than 10\")\n",
        "elif x < 10:\n",
        "    print(\"x is less than 10\")\n",
        "else:\n",
        "    print(\"x is equal to 10\")\n",
        "In this example, since x is 10, the first two conditions are False, so the else block runs and prints \"x is equal to 10\"\n",
        "\n",
        "\n",
        "13. What is the difference between for and while loops?\n",
        " -> The main difference between for and while loops in Python lies in how and when they are used:\n",
        "\n",
        "Feature\tfor loop\twhile loop\n",
        "Use Case\tWhen the number of iterations is known or finite\tWhen the number of iterations is unknown\n",
        "Syntax\tIterates over a sequence (list, range, string, etc.)\tRepeats as long as a condition is true\n",
        "Initialization\tDone in the loop header\tMust be done before the loop\n",
        "Iteration Control\tAutomatically handled by the loop (e.g., range)\tMust be managed manually inside the loop\n",
        "Typical Example\tfor i in range(5):\twhile condition:\n",
        "Efficiency\tMore efficient for sequences\tFlexible for dynamic conditions\n",
        "for loop: Best for iterating over sequences or when you know how many times you want to repeat an action (e.g., looping through a list or using range).\n",
        "\n",
        "while loop: Best when you want to repeat actions until a certain condition changes, and you may not know in advance how many times the loop will run.\n",
        "\n",
        "Example:\n",
        "\n",
        "python\n",
        "for loop example\n",
        "\n",
        "for i in range(3):\n",
        "    print(i)  # Output: 0, 1, 2\n",
        "\n",
        "while loop example\n",
        "\n",
        "count = 0\n",
        "while count < 3:\n",
        "    print(count)  # Output: 0, 1, 2\n",
        "    count += 1\n",
        "\n",
        "\n",
        "14. Describe a scenario where a while loop is more suitable than a for loop.\n",
        " -> A while loop is more suitable than a for loop when you need to repeat an action until a condition is met, and you do not know in advance how many times the loop will run.\n",
        "\n",
        "Common scenario:\n",
        "Handling user input validation is a classic case. For example, if you want to keep asking a user for a valid password until they enter the correct one, you don't know how many attempts it will take. A while loop lets you keep checking the condition (e.g., \"is the password correct?\") and only stops when the user enters the right input.\n",
        "\n",
        "Example:\n",
        "\n",
        "python\n",
        "password = \"\"\n",
        "while password != \"python123\":\n",
        "    password = input(\"Enter the password: \")\n",
        "print(\"Access granted!\")\n",
        "Here, the loop continues until the user enters the correct password, regardless of how many attempts are needed-a situation where a for loop would not be appropriate.\n",
        "\n"
      ],
      "metadata": {
        "id": "j4IgMtOOp6O-"
      }
    },
    {
      "cell_type": "markdown",
      "source": [
        "# Practical Questions"
      ],
      "metadata": {
        "id": "j3r_mY9Yzgo_"
      }
    },
    {
      "cell_type": "code",
      "execution_count": 5,
      "metadata": {
        "colab": {
          "base_uri": "https://localhost:8080/"
        },
        "id": "DqMFSIV7psOY",
        "outputId": "5ba1cf4d-f04e-4d9f-a706-d794a49444c5"
      },
      "outputs": [
        {
          "output_type": "stream",
          "name": "stdout",
          "text": [
            "Hello, World!\n"
          ]
        }
      ],
      "source": [
        "# Write a Python program to print \"Hello, World!\"\n",
        "\n",
        "print(\"Hello, World!\")"
      ]
    },
    {
      "cell_type": "code",
      "source": [
        "# Write a Python program that displays your name and age.\n",
        "\n",
        "# Display name and age\n",
        "name = \"Rajan Jha\"\n",
        "age = 21\n",
        "\n",
        "print(f\"My name is {name} and I am {age} years old.\")"
      ],
      "metadata": {
        "colab": {
          "base_uri": "https://localhost:8080/"
        },
        "id": "FGRF6a6u0ElJ",
        "outputId": "2d49f357-3a50-4cb2-eaea-8522dbb3ae46"
      },
      "execution_count": 4,
      "outputs": [
        {
          "output_type": "stream",
          "name": "stdout",
          "text": [
            "My name is Rajan Jha and I am 21 years old.\n"
          ]
        }
      ]
    },
    {
      "cell_type": "code",
      "source": [
        "# Write code to print all the pre-defined keywords in Python using the keyword library.\n",
        "\n",
        "# Get the list of all Python keywords\n",
        "keywords_list = keyword.kwlist\n",
        "\n",
        "# Print each keyword one by one\n",
        "print(\"Python Keywords:\")\n",
        "for kw in keywords_list:\n",
        "    print(kw)"
      ],
      "metadata": {
        "colab": {
          "base_uri": "https://localhost:8080/"
        },
        "id": "NklVUemI07Yv",
        "outputId": "1e5e1f98-a1a0-418a-aad0-28aae282ef43"
      },
      "execution_count": 8,
      "outputs": [
        {
          "output_type": "stream",
          "name": "stdout",
          "text": [
            "Python Keywords:\n",
            "False\n",
            "None\n",
            "True\n",
            "and\n",
            "as\n",
            "assert\n",
            "async\n",
            "await\n",
            "break\n",
            "class\n",
            "continue\n",
            "def\n",
            "del\n",
            "elif\n",
            "else\n",
            "except\n",
            "finally\n",
            "for\n",
            "from\n",
            "global\n",
            "if\n",
            "import\n",
            "in\n",
            "is\n",
            "lambda\n",
            "nonlocal\n",
            "not\n",
            "or\n",
            "pass\n",
            "raise\n",
            "return\n",
            "try\n",
            "while\n",
            "with\n",
            "yield\n"
          ]
        }
      ]
    },
    {
      "cell_type": "code",
      "source": [
        "#Write a program that checks if a given word is a Python keyword\n",
        "\n",
        "\n",
        "def check_keyword(word):\n",
        "    if keyword.iskeyword(word):\n",
        "        print(f\"'{word}' is a Python keyword!\")\n",
        "    else:\n",
        "        print(f\"'{word}' is not a Python keyword.\")\n",
        "\n",
        "# Example\n",
        "user_input = input(\"Enter a word to check: \")\n",
        "check_keyword(user_input)"
      ],
      "metadata": {
        "colab": {
          "base_uri": "https://localhost:8080/"
        },
        "id": "puMdE6Tt1zrt",
        "outputId": "afddcf1c-8310-42ab-cc53-bce62e2480bc"
      },
      "execution_count": 14,
      "outputs": [
        {
          "output_type": "stream",
          "name": "stdout",
          "text": [
            "Enter a word to check: if\n",
            "'if' is a Python keyword!\n"
          ]
        }
      ]
    },
    {
      "cell_type": "code",
      "source": [
        "#  Create a list and tuple in Python, and demonstrate how attempting to change an element works differently for each.\n",
        "\n",
        "# Create a list and a tuple\n",
        "my_list = [1, 2, 3, 4]\n",
        "my_tuple = (1, 2, 3, 4)\n",
        "\n",
        "print(\"Original List:\", my_list)\n",
        "print(\"Original Tuple:\", my_tuple)\n",
        "\n",
        "# Attempt to modify the first element (index 0)\n",
        "try:\n",
        "    my_list[0] = 10  # This will work\n",
        "    print(\"\\nAfter modifying list:\", my_list)\n",
        "except Exception as e:\n",
        "    print(\"\\nError modifying list:\", e)\n",
        "\n",
        "try:\n",
        "    my_tuple[0] = 10  # This will raise an error\n",
        "    print(\"After modifying tuple:\", my_tuple)\n",
        "except Exception as e:\n",
        "    print(\"Error modifying tuple:\", e)\n"
      ],
      "metadata": {
        "colab": {
          "base_uri": "https://localhost:8080/"
        },
        "id": "HXEg4fPN3D0u",
        "outputId": "9e97a98e-1b84-4523-fdb5-fd2adba696bc"
      },
      "execution_count": 15,
      "outputs": [
        {
          "output_type": "stream",
          "name": "stdout",
          "text": [
            "Original List: [1, 2, 3, 4]\n",
            "Original Tuple: (1, 2, 3, 4)\n",
            "\n",
            "After modifying list: [10, 2, 3, 4]\n",
            "Error modifying tuple: 'tuple' object does not support item assignment\n"
          ]
        }
      ]
    },
    {
      "cell_type": "code",
      "source": [
        "# Write a function to demonstrate the behavior of mutable and immutable arguments.\n",
        "\n",
        "def modify_arguments(num, num_list):\n",
        "    # Try to modify the immutable argument (integer)\n",
        "    num += 10\n",
        "    # Modify the mutable argument (list)\n",
        "    num_list.append(10)\n",
        "    print(\"Inside function - num:\", num)\n",
        "    print(\"Inside function - num_list:\", num_list)\n",
        "\n",
        "# Immutable argument (integer)\n",
        "a = 5\n",
        "# Mutable argument (list)\n",
        "b = [1, 2, 3]\n",
        "\n",
        "print(\"Before function call - a:\", a)\n",
        "print(\"Before function call - b:\", b)\n",
        "\n",
        "modify_arguments(a, b)\n",
        "\n",
        "print(\"After function call - a:\", a)\n",
        "print(\"After function call - b:\", b)\n"
      ],
      "metadata": {
        "colab": {
          "base_uri": "https://localhost:8080/"
        },
        "id": "OXyZ3s1r4xmq",
        "outputId": "0d6ef096-8a40-4440-c4ea-70d511464f74"
      },
      "execution_count": 17,
      "outputs": [
        {
          "output_type": "stream",
          "name": "stdout",
          "text": [
            "Before function call - a: 5\n",
            "Before function call - b: [1, 2, 3]\n",
            "Inside function - num: 15\n",
            "Inside function - num_list: [1, 2, 3, 10]\n",
            "After function call - a: 5\n",
            "After function call - b: [1, 2, 3, 10]\n"
          ]
        }
      ]
    },
    {
      "cell_type": "code",
      "source": [
        "# Write a program that performs basic arithmetic operations on two user-input numbers.\n",
        "\n",
        "# Get user input and convert to float for flexibility\n",
        "num1 = float(input(\"Enter the first number: \"))\n",
        "num2 = float(input(\"Enter the second number: \"))\n",
        "\n",
        "# Perform arithmetic operations\n",
        "addition = num1 + num2\n",
        "subtraction = num1 - num2\n",
        "multiplication = num1 * num2\n",
        "\n",
        "# Handle division by zero\n",
        "if num2 != 0:\n",
        "    division = num1 / num2\n",
        "else:\n",
        "    division = \"Undefined (cannot divide by zero)\"\n",
        "\n",
        "# Display the results\n",
        "print(f\"Results:\")\n",
        "print(f\"{num1} + {num2} = {addition}\")\n",
        "print(f\"{num1} - {num2} = {subtraction}\")\n",
        "print(f\"{num1} * {num2} = {multiplication}\")\n",
        "print(f\"{num1} / {num2} = {division}\")\n"
      ],
      "metadata": {
        "colab": {
          "base_uri": "https://localhost:8080/"
        },
        "id": "EzU4AXpq5qnk",
        "outputId": "a23a608a-4809-4d5b-aad7-cb85204e1841"
      },
      "execution_count": 19,
      "outputs": [
        {
          "output_type": "stream",
          "name": "stdout",
          "text": [
            "Enter the first number: 22\n",
            "Enter the second number: 13\n",
            "Results:\n",
            "22.0 + 13.0 = 35.0\n",
            "22.0 - 13.0 = 9.0\n",
            "22.0 * 13.0 = 286.0\n",
            "22.0 / 13.0 = 1.6923076923076923\n"
          ]
        }
      ]
    },
    {
      "cell_type": "code",
      "source": [
        "# Write a program to demonstrate the use of logical operators.\n",
        "\n",
        "# Get user input\n",
        "age = int(input(\"Enter your age: \"))\n",
        "has_ticket = input(\"Do you have a ticket? (yes/no): \").strip().lower()\n",
        "\n",
        "# Using logical operators\n",
        "\n",
        "# Check if the user is eligible to enter (must be at least 18 and have a ticket)\n",
        "if age >= 18 and has_ticket == \"yes\":\n",
        "    print(\"You are allowed to enter.\")\n",
        "else:\n",
        "    print(\"Entry denied.\")\n",
        "\n",
        "# Check if the user is either underage or does not have a ticket\n",
        "if age < 18 or has_ticket != \"yes\":\n",
        "    print(\"You must be at least 18 years old and have a ticket to enter.\")\n",
        "\n",
        "# Demonstrate the 'not' operator\n",
        "if not (age < 18):\n",
        "    print(\"You are 18 or older.\")\n",
        "else:\n",
        "    print(\"You are under 18.\")\n"
      ],
      "metadata": {
        "colab": {
          "base_uri": "https://localhost:8080/"
        },
        "id": "RqOInxYq6ojQ",
        "outputId": "08bcbc60-d185-466d-d05a-dd160b5d2a97"
      },
      "execution_count": 20,
      "outputs": [
        {
          "output_type": "stream",
          "name": "stdout",
          "text": [
            "Enter your age: 21\n",
            "Do you have a ticket? (yes/no): no\n",
            "Entry denied.\n",
            "You must be at least 18 years old and have a ticket to enter.\n",
            "You are 18 or older.\n"
          ]
        }
      ]
    },
    {
      "cell_type": "code",
      "source": [
        "# Write a Python program to convert user input from string to integer, float, and boolean types.\n",
        "\n",
        "# Get user input as a string\n",
        "user_input = input(\"Enter a value: \")\n",
        "\n",
        "# Convert to integer (if possible)\n",
        "try:\n",
        "    int_value = int(user_input)\n",
        "    print(f\"Integer conversion: {int_value}\")\n",
        "except ValueError:\n",
        "    print(\"Cannot convert input to integer.\")\n",
        "\n",
        "# Convert to float (if possible)\n",
        "try:\n",
        "    float_value = float(user_input)\n",
        "    print(f\"Float conversion: {float_value}\")\n",
        "except ValueError:\n",
        "    print(\"Cannot convert input to float.\")\n",
        "\n",
        "# Convert to Boolean\n",
        "# In Python, an empty string is False, any non-empty string is True\n",
        "bool_value = bool(user_input)\n",
        "print(f\"Boolean conversion: {bool_value}\")\n"
      ],
      "metadata": {
        "colab": {
          "base_uri": "https://localhost:8080/"
        },
        "id": "Yg65jQQM7BET",
        "outputId": "c117cd17-eb35-4719-ac10-1d9217e0e5f7"
      },
      "execution_count": 21,
      "outputs": [
        {
          "output_type": "stream",
          "name": "stdout",
          "text": [
            "Enter a value: 13\n",
            "Integer conversion: 13\n",
            "Float conversion: 13.0\n",
            "Boolean conversion: True\n"
          ]
        }
      ]
    },
    {
      "cell_type": "code",
      "source": [
        "# Write code to demonstrate type casting with list elements.\n",
        "\n",
        "# Original list with string elements\n",
        "str_list = [\"10\", \"20\", \"30\", \"40.5\", \"50\"]\n",
        "\n",
        "# Convert all elements to integers (only possible if all are integer strings)\n",
        "int_list = []\n",
        "for item in str_list:\n",
        "    try:\n",
        "        int_list.append(int(float(item)))  # Handles both integers and floats as strings\n",
        "    except ValueError:\n",
        "        print(f\"Cannot convert '{item}' to integer.\")\n",
        "\n",
        "print(\"Integer list:\", int_list)\n",
        "\n",
        "# Convert all elements to floats\n",
        "float_list = []\n",
        "for item in str_list:\n",
        "    try:\n",
        "        float_list.append(float(item))\n",
        "    except ValueError:\n",
        "        print(f\"Cannot convert '{item}' to float.\")\n",
        "\n",
        "print(\"Float list:\", float_list)\n",
        "\n",
        "# Convert integer list elements to strings\n",
        "str_from_int_list = [str(num) for num in int_list]\n",
        "print(\"String list from integers:\", str_from_int_list)\n"
      ],
      "metadata": {
        "colab": {
          "base_uri": "https://localhost:8080/"
        },
        "id": "uRVSrcaU7Wyb",
        "outputId": "2adad6f9-d159-461b-991c-c4a6b2038806"
      },
      "execution_count": 22,
      "outputs": [
        {
          "output_type": "stream",
          "name": "stdout",
          "text": [
            "Integer list: [10, 20, 30, 40, 50]\n",
            "Float list: [10.0, 20.0, 30.0, 40.5, 50.0]\n",
            "String list from integers: ['10', '20', '30', '40', '50']\n"
          ]
        }
      ]
    },
    {
      "cell_type": "code",
      "source": [
        "#  Write a program that checks if a number is positive, negative, or zero.\n",
        "\n",
        "def check_number(num):\n",
        "    if num > 0:\n",
        "        print(f\"{num} is a positive number.\")\n",
        "    elif num < 0:\n",
        "        print(f\"{num} is a negative number.\")\n",
        "    else:\n",
        "        print(\"The number is zero.\")\n",
        "\n",
        "# Take user input\n",
        "try:\n",
        "    number = float(input(\"Enter a number: \"))\n",
        "    check_number(number)\n",
        "except ValueError:\n",
        "    print(\"Invalid input! Please enter a valid number.\")"
      ],
      "metadata": {
        "colab": {
          "base_uri": "https://localhost:8080/"
        },
        "id": "m6cB_CRz861C",
        "outputId": "d283d08b-7b8d-4cf3-e0a3-573bf883fb1b"
      },
      "execution_count": 23,
      "outputs": [
        {
          "output_type": "stream",
          "name": "stdout",
          "text": [
            "Enter a number: -25\n",
            "-25.0 is a negative number.\n"
          ]
        }
      ]
    },
    {
      "cell_type": "code",
      "source": [
        "# Write a for loop to print numbers from 1 to 10.\n",
        "\n",
        "for i in range(1, 11):\n",
        "    print(i)\n"
      ],
      "metadata": {
        "colab": {
          "base_uri": "https://localhost:8080/"
        },
        "id": "QKcTq9049J7z",
        "outputId": "ff517e07-1057-436f-b2a1-62c5d63e057c"
      },
      "execution_count": 24,
      "outputs": [
        {
          "output_type": "stream",
          "name": "stdout",
          "text": [
            "1\n",
            "2\n",
            "3\n",
            "4\n",
            "5\n",
            "6\n",
            "7\n",
            "8\n",
            "9\n",
            "10\n"
          ]
        }
      ]
    },
    {
      "cell_type": "code",
      "source": [
        "# Write a Python program to find the sum of all even numbers between 1 and 50.\n",
        "\n",
        "# Initialize sum variable\n",
        "even_sum = 0\n",
        "\n",
        "# Loop through numbers from 1 to 50\n",
        "for num in range(1, 51):\n",
        "    if num % 2 == 0:  # Check if the number is even\n",
        "        even_sum += num\n",
        "\n",
        "print(\"The sum of all even numbers between 1 and 50 is:\", even_sum)\n"
      ],
      "metadata": {
        "colab": {
          "base_uri": "https://localhost:8080/"
        },
        "id": "r0renCCvADAP",
        "outputId": "42646657-744b-418a-a533-f1678bed6139"
      },
      "execution_count": 25,
      "outputs": [
        {
          "output_type": "stream",
          "name": "stdout",
          "text": [
            "The sum of all even numbers between 1 and 50 is: 650\n"
          ]
        }
      ]
    },
    {
      "cell_type": "code",
      "source": [
        "# Write a program to reverse a string using a while loop.\n",
        "\n",
        "# Given string\n",
        "original_str = \"-1, 0, 1, 2, 3, 4, 5\"\n",
        "\n",
        "# Initialize variables\n",
        "reversed_str = \"\"\n",
        "index = len(original_str) - 1\n",
        "\n",
        "# Reverse the string using a while loop\n",
        "while index >= 0:\n",
        "    reversed_str += original_str[index]\n",
        "    index -= 1\n",
        "\n",
        "print(\"Original string:\", original_str)\n",
        "print(\"Reversed string:\", reversed_str)\n"
      ],
      "metadata": {
        "colab": {
          "base_uri": "https://localhost:8080/"
        },
        "id": "fHaNl653AYJv",
        "outputId": "dc548e49-885b-48a4-e1e1-5f3a8cc01078"
      },
      "execution_count": 30,
      "outputs": [
        {
          "output_type": "stream",
          "name": "stdout",
          "text": [
            "Original string: -1, 0, 1, 2, 3, 4, 5\n",
            "Reversed string: 5 ,4 ,3 ,2 ,1 ,0 ,1-\n"
          ]
        }
      ]
    },
    {
      "cell_type": "code",
      "source": [
        "# Write a Python program to calculate the factorial of a number provided by the user using a while loop.\n",
        "\n",
        "# Given string\n",
        "number_str = \"1, 2, 3, 4, 5\"\n",
        "\n",
        "# Split the string into individual number strings, remove spaces, and convert to integers\n",
        "numbers = [int(num.strip()) for num in number_str.split(',')]\n",
        "\n",
        "# Function to calculate factorial using a while loop\n",
        "def factorial(n):\n",
        "    result = 1\n",
        "    current = n\n",
        "    while current > 1:\n",
        "        result *= current\n",
        "        current -= 1\n",
        "    return result\n",
        "\n",
        "# Calculate and print factorial for each number\n",
        "for num in numbers:\n",
        "    print(f\"Factorial of {num} is {factorial(num)}\")\n"
      ],
      "metadata": {
        "colab": {
          "base_uri": "https://localhost:8080/"
        },
        "id": "oO9GN8UlBEYN",
        "outputId": "fabe8396-b035-40b5-f390-0562106ad556"
      },
      "execution_count": 29,
      "outputs": [
        {
          "output_type": "stream",
          "name": "stdout",
          "text": [
            "Factorial of 1 is 1\n",
            "Factorial of 2 is 2\n",
            "Factorial of 3 is 6\n",
            "Factorial of 4 is 24\n",
            "Factorial of 5 is 120\n"
          ]
        }
      ]
    }
  ]
}