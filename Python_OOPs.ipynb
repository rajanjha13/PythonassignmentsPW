{
  "nbformat": 4,
  "nbformat_minor": 0,
  "metadata": {
    "colab": {
      "provenance": []
    },
    "kernelspec": {
      "name": "python3",
      "display_name": "Python 3"
    },
    "language_info": {
      "name": "python"
    }
  },
  "cells": [
    {
      "cell_type": "markdown",
      "source": [
        "#Theory Questions"
      ],
      "metadata": {
        "id": "TX_98devnBaN"
      }
    },
    {
      "cell_type": "markdown",
      "source": [
        "1. What is Object-Oriented Programming (OOP)?\n",
        "  -> Object-Oriented Programming (OOP) is a programming paradigm based on the concept of \"objects,\" which can contain data (attributes) and code (methods). It promotes code reusability, modularity, and abstraction.\n",
        "\n",
        "2. What is a class in OOP?\n",
        "  -> A class in OOP is a blueprint or a template for creating objects. It defines a set of attributes and methods that the objects created from the class will have.\n",
        "  class Dog:\n",
        "    # attributes\n",
        "    species = \"Canis familiaris\"\n",
        "\n",
        "    # methods\n",
        "    def __init__(self, name, age):\n",
        "        self.name = name\n",
        "        self.age = age\n",
        "\n",
        "    def bark(self):\n",
        "        return \"Woof!\"\n",
        "\n",
        "3. What is an object in OOP?\n",
        "  -> An object in OOP is an instance of a class. It is a concrete entity created from the class blueprint, possessing the attributes and behaviors defined by the class.\n",
        "  my_dog = Dog(\"Buddy\", 3) # my_dog is an object of the Dog class\n",
        "print(my_dog.name) # Output: Buddy\n",
        "print(my_dog.bark()) # Output: Woof!\n",
        "\n",
        "4. What is the difference between abstraction and encapsulation?\n",
        "  -> Abstraction: Abstraction focuses on showing only essential information and hiding the complex implementation details. It provides a simplified view of an object.\n",
        "  -> Encapsulation: Encapsulation is the bundling of data (attributes) and methods (functions) that operate on the data into a single unit (a class). It also involves restricting direct access to some of an object's components, which can prevent accidental modification of data.\n",
        "\n",
        "5. What are dunder methods in Python?\n",
        "  -> Dunder methods (double underscore methods), also known as magic methods, are special methods in Python that have double underscores __ at the beginning and end of their names (e.g., __init__, __str__). These methods are automatically invoked by Python in response to certain operations.\n",
        "\n",
        "6. Explain the concept of inheritance in OOP.\n",
        "  -> Inheritance is a mechanism in OOP that allows a new class (subclass/child class) to inherit attributes and methods from an existing class (superclass/parent class). This promotes code reusability and establishes a \"is-a\" relationship between classes.\n",
        "  class Animal:\n",
        "    def speak(self):\n",
        "        print(\"Animal makes a sound\")\n",
        "\n",
        "class Dog(Animal): # Dog inherits from Animal\n",
        "    def bark(self):\n",
        "        print(\"Woof!\")\n",
        "\n",
        "my_dog = Dog()\n",
        "my_dog.speak() # Output: Animal makes a sound (inherited method)\n",
        "\n",
        "7. What is polymorphism in OOP?\n",
        "  -> Polymorphism means \"many forms\". In OOP, it refers to the ability of objects of different classes to respond to the same method call in their own specific ways. This is often achieved through method overriding.\n",
        "\n",
        "8. How is encapsulation achieved in Python?\n",
        "  -> Encapsulation in Python is achieved through conventions, primarily by using single underscore _ or double underscore __ prefixes for attributes or methods.\n",
        "\n",
        "Single underscore (_): Indicates a \"protected\" member, suggesting that it should not be accessed directly from outside the class, but it can be.\n",
        "Double underscore (__): Triggers name mangling, making the attribute or method harder to access directly from outside the class (though not truly private).\n",
        "class BankAccount:\n",
        "    def __init__(self, balance):\n",
        "        self.__balance = balance # \"private\" attribute\n",
        "\n",
        "    def deposit(self, amount):\n",
        "        self.__balance += amount\n",
        "\n",
        "    def get_balance(self):\n",
        "        return self.__balance\n",
        "\n",
        "account = BankAccount(100)\n",
        "# print(account.__balance) # This would raise an AttributeError\n",
        "print(account.get_balance()) # Output: 100\n",
        "\n",
        "9. What is a constructor in Python?\n",
        "  -> A constructor in Python is a special method named __init__. It is automatically called when a new object of a class is created. Its primary purpose is to initialize the attributes of the object.\n",
        "  class Car:\n",
        "    def __init__(self, make, model): # This is the constructor\n",
        "        self.make = make\n",
        "        self.model = model\n",
        "\n",
        "my_car = Car(\"Toyota\", \"Camry\")\n",
        "\n",
        "10. What are class and static methods in Python?\n",
        "  -> Class method: A class method is a method that is bound to the class and not the instance of the class. It takes the class itself (cls) as its first argument and is typically used for operations that involve the class state or to create alternative constructors. They are defined using the @classmethod decorator.\n",
        "  Static method: A static method is a method that belongs to the class but doesn't operate on the instance or the class itself. It's essentially a regular function that is logically grouped with the class. They are defined using the @staticmethod decorator.\n",
        "\n",
        "  class MyClass:\n",
        "    count = 0\n",
        "\n",
        "    def __init__(self):\n",
        "        MyClass.count += 1\n",
        "\n",
        "    @classmethod\n",
        "    def get_count(cls):\n",
        "        return cls.count\n",
        "\n",
        "    @staticmethod\n",
        "    def is_positive(number):\n",
        "        return number > 0\n",
        "\n",
        "obj1 = MyClass()\n",
        "obj2 = MyClass()\n",
        "print(MyClass.get_count()) # Output: 2\n",
        "print(MyClass.is_positive(5)) # Output: True\n",
        "\n",
        "11. What is method overloading in Python?\n",
        "  -> Method overloading refers to the ability to define multiple methods with the same name in a class, but with different parameters. Python does not support true method overloading in the way some other languages (like Java or C++) do. If you define multiple methods with the same name, the last one defined will override the previous ones. However, you can achieve similar functionality using default arguments or variable-length arguments (*args, **kwargs).\n",
        "  class Calculator:\n",
        "    def add(self, a, b=0, c=0):\n",
        "        return a + b + c\n",
        "\n",
        "calc = Calculator()\n",
        "print(calc.add(2))        # Output: 2\n",
        "print(calc.add(2, 3))     # Output: 5\n",
        "print(calc.add(2, 3, 4))  # Output: 9\n",
        "\n",
        "\n",
        "12. What is method overriding in OOP?\n",
        "  -> Method overriding occurs when a subclass provides its own specific implementation for a method that is already defined in its superclass. This allows a subclass to provide a different behavior for an inherited method\n",
        "\n",
        "class Animal:\n",
        "    def speak(self):\n",
        "        print(\"Generic animal sound\")\n",
        "\n",
        "class Cat(Animal):\n",
        "    def speak(self): # Overriding the speak method\n",
        "        print(\"Meow\")\n",
        "\n",
        "my_animal = Animal()\n",
        "my_cat = Cat()\n",
        "my_animal.speak() # Output: Generic animal sound\n",
        "my_cat.speak()    # Output: Meow\n",
        "\n",
        "\n",
        "13. What is a property decorator in Python?\n",
        "  -> The @property decorator in Python is used to define methods that can be accessed like attributes. It allows you to add getter, setter, and deleter functionality to attributes, providing a way to control how attributes are accessed and modified without directly calling methods.\n",
        "  class Person:\n",
        "    def __init__(self, name):\n",
        "        self._name = name\n",
        "\n",
        "    @property\n",
        "    def name(self):\n",
        "        print(\"Getting name\")\n",
        "        return self._name\n",
        "\n",
        "    @name.setter\n",
        "    def name(self, new_name):\n",
        "        print(\"Setting name\")\n",
        "        self._name = new_name\n",
        "\n",
        "p = Person(\"Alice\")\n",
        "print(p.name)     # Calls the getter (Output: Getting name, Alice)\n",
        "p.name = \"Bob\"    # Calls the setter (Output: Setting name)\n",
        "print(p.name)     # Calls the getter (Output: Getting name, Bob)\n",
        "\n",
        "14. Why is polymorphism important in OOP?\n",
        "  -> Polymorphism is important in OOP because it promotes flexibility, extensibility, and code reusability. It allows you to write more generic and adaptable code by treating objects of different classes uniformly, as long as they share a common interface. This makes it easier to add new classes or modify existing ones without significant changes to the overall program structure.\n",
        "\n",
        "15. What is an abstract class in Python?\n",
        "  -> An abstract class in Python is a class that cannot be instantiated directly. It is designed to be a blueprint for other classes and can contain abstract methods (methods declared but without an implementation). Subclasses are then required to implement these abstract methods. Abstract classes are defined using the abc module (ABC and abstractmethod).\n",
        "  from abc import ABC, abstractmethod\n",
        "\n",
        "class Shape(ABC): # Abstract class\n",
        "    @abstractmethod\n",
        "    def area(self):\n",
        "        pass\n",
        "\n",
        "# class Circle(Shape):\n",
        "#     def __init__(self, radius):\n",
        "#         self.radius = radius\n",
        "#     def area(self):\n",
        "#         return 3.14 * self.radius * self.radius\n",
        "\n",
        "16. What are the advantages of OOP?\n",
        "  -> The advantages of OOP include:\n",
        "  Modularity: Objects are self-contained units, making code easier to manage and debug.\n",
        "  Reusability: Inheritance allows code to be reused, reducing development time.\n",
        "  Maintainability: Changes in one part of the system have minimal impact on others.\n",
        "  Extensibility: New features and classes can be easily added without affecting existing code.\n",
        "  Better design: Encourages a more organized and logical structure for programs.\n",
        "\n",
        "17. What is the difference between a class variable and an instance variable?\n",
        "  -> Class variable: A class variable is shared among all instances (objects) of a class. It is defined directly within the class but outside any methods. Changes to a class variable affect all instances.\n",
        "  Instance variable: An instance variable is unique to each instance (object) of a class. It is defined within methods (typically in __init__) using self.variable_name. Each object has its own copy of instance variables.\n",
        "class Car:\n",
        "    wheels = 4 # Class variable\n",
        "\n",
        "    def __init__(self, color):\n",
        "        self.color = color # Instance variable\n",
        "\n",
        "car1 = Car(\"red\")\n",
        "car2 = Car(\"blue\")\n",
        "\n",
        "print(car1.wheels)  # Output: 4\n",
        "print(car2.wheels)  # Output: 4\n",
        "print(car1.color)   # Output: red\n",
        "print(car2.color)   # Output: blue\n",
        "\n",
        "Car.wheels = 5\n",
        "print(car1.wheels)  # Output: 5 (changed for all instances)\n",
        "\n",
        "18. What is multiple inheritance in Python?\n",
        "  -> Multiple inheritance in Python allows a class to inherit from multiple parent classes. This means a child class can inherit attributes and methods from all of its parent classes.\n",
        "  class Father:\n",
        "    def skills_father(self):\n",
        "        print(\"Gardening\")\n",
        "\n",
        "class Mother:\n",
        "    def skills_mother(self):\n",
        "        print(\"Cooking\")\n",
        "\n",
        "class Child(Father, Mother): # Inherits from both Father and Mother\n",
        "    def skills_child(self):\n",
        "        print(\"Playing\")\n",
        "\n",
        "c = Child()\n",
        "c.skills_father() # Output: Gardening\n",
        "c.skills_mother() # Output: Cooking\n",
        "c.skills_child()  # Output: Playing\n",
        "\n",
        "\n",
        "19. Explain the purpose of __str__ and __repr__ methods in Python.\n",
        "  -> __str__: This method is used to define the \"informal\" string representation of an object. It's meant to be readable by humans and is called by str() and print().\n",
        "__repr__: This method is used to define the \"official\" string representation of an object. It's meant to be unambiguous and, if possible, should be a string that could be used to recreate the object. It's called by repr() and is the fallback when __str__ is not defined.\n",
        "\n",
        "class Point:\n",
        "    def __init__(self, x, y):\n",
        "        self.x = x\n",
        "        self.y = y\n",
        "\n",
        "    def __str__(self):\n",
        "        return f\"Point({self.x}, {self.y})\"\n",
        "\n",
        "    def __repr__(self):\n",
        "        return f\"Point(x={self.x}, y={self.y})\"\n",
        "\n",
        "p = Point(1, 2)\n",
        "print(p)         # Calls __str__ (Output: Point(1, 2))\n",
        "print(repr(p))   # Calls __repr__ (Output: Point(x=1, y=2))\n",
        "\n",
        "\n",
        "20. What is the significance of the super() function in Python?\n",
        "  -> The super() function in Python is used to call methods from a parent (superclass) or sibling class. It's particularly useful in inheritance to ensure that the parent class's __init__ method is called or to access overridden methods in the parent class.\n",
        "\n",
        "Example:\n",
        "\n",
        "    class Animal:\n",
        "def init(self, name):\n",
        "self.name = name\n",
        "print(f\"{self.name} is an animal.\")\n",
        "class Dog(Animal):\n",
        "    def __init__(self, name, breed):\n",
        "        super().__init__(name) # Calls the __init__ of the parent class (Animal)\n",
        "        self.breed = breed\n",
        "        print(f\"{self.name} is a {self.breed} dog.\")\n",
        "\n",
        "my_dog = Dog(\"Buddy\", \"Golden Retriever\")\n",
        "# Output:\n",
        "# Buddy is an animal.\n",
        "# Buddy is a Golden Retriever dog.\n",
        "\n",
        "21. What is the significance of the __del__ method in Python?\n",
        "The __del__ method, also known as the destructor, is called when an object is about to be destroyed or garbage-collected. It's typically used for cleanup operations, such as closing file handles or releasing external resources. However, its execution is not guaranteed, and relying on it for critical cleanup is generally not recommended in Python.\n",
        "\n",
        "class MyResource:\n",
        "    def __init__(self, name):\n",
        "        self.name = name\n",
        "        print(f\"Resource {self.name} created.\")\n",
        "\n",
        "    def __del__(self):\n",
        "        print(f\"Resource {self.name} destroyed.\")\n",
        "\n",
        "res1 = MyResource(\"File A\")\n",
        "res2 = MyResource(\"Database Connection\")\n",
        "del res1 # Manually trigger deletion (often happens automatically)\n",
        "print(\"Program ending...\")\n",
        "# Output might vary slightly based on garbage collection timing, but generally:\n",
        "# Resource File A created.\n",
        "# Resource Database Connection created.\n",
        "# Resource File A destroyed.\n",
        "# Program ending...\n",
        "# Resource Database Connection destroyed. (when res2 is garbage collected)\n",
        "\n",
        "22. What is the difference between @staticmethod and @classmethod in Python?\n",
        "\n",
        "  -> @staticmethod: This decorator is used to define a static method. A static method does not receive an implicit first argument (neither self for instance methods nor cls for class methods). It behaves like a regular function but is logically part of the class, often used for utility functions that don't need access to instance or class state.\n",
        "  @classmethod: This decorator is used to define a class method. A class method receives the class itself (cls) as its first argument. It can access and modify class-level attributes and is often used for factory methods or operations that need to interact with the class state.\n",
        "Example: (See question 10 for an example of both)\n",
        "\n",
        "23. How does polymorphism work in Python with inheritance?\n",
        "Polymorphism with inheritance in Python primarily works through method overriding. When a superclass method is overridden in a subclass, Python determines which implementation to call at runtime based on the actual type of the object, not the type of the variable referencing it. This is often referred to as \"duck typing\" – if it walks like a duck and quacks like a duck, it's a duck.\n",
        "\n",
        "Example:\n",
        "class Animal:\n",
        "    def make_sound(self):\n",
        "        pass\n",
        "\n",
        "class Dog(Animal):\n",
        "    def make_sound(self):\n",
        "        print(\"Woof!\")\n",
        "\n",
        "class Cat(Animal):\n",
        "    def make_sound(self):\n",
        "        print(\"Meow!\")\n",
        "\n",
        "def animal_sound(animal):\n",
        "    animal.make_sound()\n",
        "\n",
        "dog_obj = Dog()\n",
        "cat_obj = Cat()\n",
        "\n",
        "animal_sound(dog_obj) # Output: Woof!\n",
        "animal_sound(cat_obj) # Output: Meow!\n",
        "\n",
        "24. What is method chaining in Python OOP?\n",
        "Method chaining (or fluent interface) is a technique where multiple methods are called on an object in a single line of code. This is achieved by having each method return self (the instance of the object), allowing the next method call to operate on the same object.\n",
        "\n",
        "Example:\n",
        "class Calculator:\n",
        "    def __init__(self, value=0):\n",
        "        self.value = value\n",
        "\n",
        "    def add(self, num):\n",
        "        self.value += num\n",
        "        return self # Return self to allow chaining\n",
        "\n",
        "    def subtract(self, num):\n",
        "        self.value -= num\n",
        "        return self # Return self to allow chaining\n",
        "\n",
        "    def get_result(self):\n",
        "        return self.value\n",
        "\n",
        "calc = Calculator(10)\n",
        "result = calc.add(5).subtract(2).add(10).get_result()\n",
        "print(result) # Output: 23\n",
        "\n",
        "25. What is the purpose of the __call__ method in Python?\n",
        "The __call__ method in Python allows an object to be called like a function. If a class implements this method, instances of that class can be \"called\" with arguments, and the __call__ method will be executed.\n",
        "\n",
        "Example:\n",
        "class Multiplier:\n",
        "    def __init__(self, factor):\n",
        "        self.factor = factor\n",
        "\n",
        "    def __call__(self, number): # Allows object to be called like a function\n",
        "        return self.factor * number\n",
        "\n",
        "double = Multiplier(2)\n",
        "triple = Multiplier(3)\n",
        "\n",
        "print(double(5))  # Output: 10 (calls double.__call__(5))\n",
        "print(triple(5))  # Output: 15 (calls triple.__call__(5))\n",
        "\n"
      ],
      "metadata": {
        "id": "Av3fVmBMm_as"
      }
    },
    {
      "cell_type": "markdown",
      "source": [
        "#Practical Questions"
      ],
      "metadata": {
        "id": "81hURt8NvrV6"
      }
    },
    {
      "cell_type": "code",
      "execution_count": 1,
      "metadata": {
        "id": "6fVwAhn_mF9L",
        "colab": {
          "base_uri": "https://localhost:8080/"
        },
        "outputId": "42b50302-963a-4633-ed89-32753bf975e0"
      },
      "outputs": [
        {
          "output_type": "stream",
          "name": "stdout",
          "text": [
            "Animal speaks:\n",
            "This is a generic animal sound\n",
            "\n",
            "Dog speaks:\n",
            "Bark!\n"
          ]
        }
      ],
      "source": [
        "#Create a parent class Animal with a method speak() that prints a generic message. Create a child class Dog that overrides the speak() method to print \"Bark!\".\n",
        "class Animal:\n",
        "    def speak(self):\n",
        "        print(\"This is a generic animal sound\")\n",
        "\n",
        "class Dog(Animal):\n",
        "    def speak(self):\n",
        "        print(\"Bark!\")\n",
        "\n",
        "# Testing the classes\n",
        "animal = Animal()\n",
        "dog = Dog()\n",
        "\n",
        "print(\"Animal speaks:\")\n",
        "animal.speak()  # Output: This is a generic animal sound\n",
        "\n",
        "print(\"\\nDog speaks:\")\n",
        "dog.speak()  # Output: Bark!"
      ]
    },
    {
      "cell_type": "code",
      "source": [
        "#Q2. Write a program to create an abstract class Shape with a method area(). Derive classes Circle and Rectangle from it and implement the area() method in both.\n",
        "from abc import ABC, abstractmethod\n",
        "import math\n",
        "\n",
        "class Shape(ABC):\n",
        "    @abstractmethod\n",
        "    def area(self):\n",
        "        pass\n",
        "\n",
        "class Circle(Shape):\n",
        "    def __init__(self, radius):\n",
        "        self.radius = radius\n",
        "\n",
        "    def area(self):\n",
        "        return math.pi * self.radius ** 2\n",
        "\n",
        "class Rectangle(Shape):\n",
        "    def __init__(self, length, width):\n",
        "        self.length = length\n",
        "        self.width = width\n",
        "\n",
        "    def area(self):\n",
        "        return self.length * self.width\n",
        "\n",
        "# Testing the classes\n",
        "circle = Circle(5)\n",
        "rectangle = Rectangle(4, 6)\n",
        "\n",
        "print(\"Circle area:\", circle.area())\n",
        "print(\"Rectangle area:\", rectangle.area())"
      ],
      "metadata": {
        "colab": {
          "base_uri": "https://localhost:8080/"
        },
        "id": "3G53lVejZAY3",
        "outputId": "7180a4bd-4533-4271-b086-d5499abc1265"
      },
      "execution_count": 2,
      "outputs": [
        {
          "output_type": "stream",
          "name": "stdout",
          "text": [
            "Circle area: 78.53981633974483\n",
            "Rectangle area: 24\n"
          ]
        }
      ]
    },
    {
      "cell_type": "code",
      "source": [
        "#Q3. Implement a multi-level inheritance scenario where a class Vehicle has an attribute type. Derive a class Car and further derive a class ElectricCar that adds a battery attribute.\n",
        "# Base class\n",
        "class Vehicle:\n",
        "    def __init__(self, vehicle_type):\n",
        "        self.vehicle_type = vehicle_type\n",
        "\n",
        "# Derived class\n",
        "class Car(Vehicle):\n",
        "    def __init__(self, vehicle_type, brand):\n",
        "        super().__init__(vehicle_type)\n",
        "        self.brand = brand\n",
        "\n",
        "# Further derived class\n",
        "class ElectricCar(Car):\n",
        "    def __init__(self, vehicle_type, brand, battery_capacity):\n",
        "        super().__init__(vehicle_type, brand)\n",
        "        self.battery_capacity = battery_capacity\n",
        "\n",
        "# Testing the classes\n",
        "electric_car = ElectricCar(\"Electric\", \"Tesla\", \"100 kWh\")\n",
        "print(\"Vehicle Type:\", electric_car.vehicle_type)\n",
        "print(\"Brand:\", electric_car.brand)\n",
        "print(\"Battery Capacity:\", electric_car.battery_capacity)\n"
      ],
      "metadata": {
        "colab": {
          "base_uri": "https://localhost:8080/"
        },
        "id": "JRETyqhSZJsG",
        "outputId": "b8703195-0437-4a8d-90ff-9136d737faad"
      },
      "execution_count": 3,
      "outputs": [
        {
          "output_type": "stream",
          "name": "stdout",
          "text": [
            "Vehicle Type: Electric\n",
            "Brand: Tesla\n",
            "Battery Capacity: 100 kWh\n"
          ]
        }
      ]
    },
    {
      "cell_type": "code",
      "source": [
        "#Q4. Demonstrate polymorphism by creating a base class Bird with a method fly(). Create two derived classes Sparrow and Penguin that override the fly() method.\n",
        "# Base class\n",
        "class Bird:\n",
        "    def __init__(self, name):\n",
        "        self.name = name\n",
        "\n",
        "    def fly(self):\n",
        "        print(f\"The bird {self.name} is flying in a generic way\")\n",
        "\n",
        "# Derived class 1\n",
        "class Sparrow(Bird):\n",
        "    def fly(self):\n",
        "        print(f\"The sparrow {self.name} is flying quickly and nimbly through the air\")\n",
        "\n",
        "# Derived class 2\n",
        "class Penguin(Bird):\n",
        "    def fly(self):\n",
        "        print(f\"The penguin {self.name} cannot fly, but can swim excellently\")\n",
        "\n",
        "# Testing polymorphism\n",
        "def let_bird_fly(bird):\n",
        "    bird.fly()  # This will call the appropriate fly() method based on the object's type\n",
        "\n",
        "# Create instances of different birds\n",
        "generic_bird = Bird(\"Birdy\")\n",
        "sparrow = Sparrow(\"Jack\")\n",
        "penguin = Penguin(\"Rico\")\n",
        "\n",
        "# Demonstrate polymorphism\n",
        "print(\"Demonstrating polymorphism:\")\n",
        "let_bird_fly(generic_bird)\n",
        "let_bird_fly(sparrow)\n",
        "let_bird_fly(penguin)\n"
      ],
      "metadata": {
        "colab": {
          "base_uri": "https://localhost:8080/"
        },
        "id": "bLEeWMUQZV5T",
        "outputId": "67d99789-5d70-49a3-89cb-9753bda9e395"
      },
      "execution_count": 4,
      "outputs": [
        {
          "output_type": "stream",
          "name": "stdout",
          "text": [
            "Demonstrating polymorphism:\n",
            "The bird Birdy is flying in a generic way\n",
            "The sparrow Jack is flying quickly and nimbly through the air\n",
            "The penguin Rico cannot fly, but can swim excellently\n"
          ]
        }
      ]
    },
    {
      "cell_type": "code",
      "source": [
        "#Q5. Write a program to demonstrate encapsulation by creating a class BankAccount with private attributes balance and methods to deposit, withdraw, and check balance\n",
        "class BankAccount:\n",
        "    def __init__(self, account_holder, initial_balance=0):\n",
        "        self.__account_holder = account_holder  # Private attribute\n",
        "        self.__balance = initial_balance  # Private attribute\n",
        "        print(f\"Account created for {account_holder} with initial balance: ${initial_balance}\")\n",
        "\n",
        "    def deposit(self, amount):\n",
        "        if amount > 0:\n",
        "            self.__balance += amount\n",
        "            print(f\"${amount} deposited successfully\")\n",
        "            return True\n",
        "        else:\n",
        "            print(\"Deposit amount must be positive\")\n",
        "            return False\n",
        "\n",
        "    def withdraw(self, amount):\n",
        "        if amount > 0:\n",
        "            if amount <= self.__balance:\n",
        "                self.__balance -= amount\n",
        "                print(f\"${amount} withdrawn successfully\")\n",
        "                return True\n",
        "            else:\n",
        "                print(\"Insufficient funds\")\n",
        "                return False\n",
        "        else:\n",
        "            print(\"Withdrawal amount must be positive\")\n",
        "            return False\n",
        "\n",
        "    def check_balance(self):\n",
        "        print(f\"Current balance: ${self.__balance}\")\n",
        "        return self.__balance\n",
        "\n",
        "    # This method demonstrates that direct access to __balance is not possible\n",
        "    def demonstrate_encapsulation(self):\n",
        "        print(\"Demonstrating encapsulation:\")\n",
        "        print(\"Private attributes cannot be accessed directly from outside the class\")\n",
        "        print(\"They can only be accessed through defined methods\")\n",
        "\n",
        "# Testing the BankAccount class\n",
        "if __name__ == \"__main__\":\n",
        "    # Create a new account\n",
        "    account = BankAccount(\"John Doe\", 1000)\n",
        "\n",
        "    # Try operations\n",
        "    account.deposit(500)\n",
        "    account.withdraw(200)\n",
        "    account.check_balance()\n",
        "\n",
        "    # Try to access private attribute directly (will not work as expected)\n",
        "    try:\n",
        "        print(account.__balance)  # This will raise an AttributeError\n",
        "    except AttributeError as e:\n",
        "        print(f\"Error: {e}\")\n",
        "        print(\"Cannot access private attribute directly\")\n",
        "\n",
        "    # Name mangling in Python: private attributes can still be accessed with _ClassName__attribute\n",
        "    # (This is just to demonstrate how Python implements private attributes)\n",
        "    print(f\"Accessing through name mangling: ${account._BankAccount__balance}\")\n",
        "\n",
        "    # Show encapsulation benefits\n",
        "    account.demonstrate_encapsulation()"
      ],
      "metadata": {
        "colab": {
          "base_uri": "https://localhost:8080/"
        },
        "id": "MKOLou84ZcXt",
        "outputId": "2c81ab62-f903-496f-ba65-829893b19cb0"
      },
      "execution_count": 5,
      "outputs": [
        {
          "output_type": "stream",
          "name": "stdout",
          "text": [
            "Account created for John Doe with initial balance: $1000\n",
            "$500 deposited successfully\n",
            "$200 withdrawn successfully\n",
            "Current balance: $1300\n",
            "Error: 'BankAccount' object has no attribute '__balance'\n",
            "Cannot access private attribute directly\n",
            "Accessing through name mangling: $1300\n",
            "Demonstrating encapsulation:\n",
            "Private attributes cannot be accessed directly from outside the class\n",
            "They can only be accessed through defined methods\n"
          ]
        }
      ]
    },
    {
      "cell_type": "code",
      "source": [
        "#Q6. Demonstrate runtime polymorphism using a method play() in a base class Instrument. Derive classes Guitar and Piano that implement their own version of play().\n",
        "class Instrument:\n",
        "    def __init__(self, name):\n",
        "        self.name = name\n",
        "\n",
        "    def play(self):\n",
        "        print(f\"Playing the {self.name}\")\n",
        "\n",
        "class Guitar(Instrument):\n",
        "    def __init__(self, guitar_type=\"Acoustic\"):\n",
        "        super().__init__(\"Guitar\")\n",
        "        self.guitar_type = guitar_type\n",
        "\n",
        "    def play(self):\n",
        "        print(f\"Strumming the {self.guitar_type} {self.name}\")\n",
        "\n",
        "class Piano(Instrument):\n",
        "    def __init__(self, piano_type=\"Grand\"):\n",
        "        super().__init__(\"Piano\")\n",
        "        self.piano_type = piano_type\n",
        "\n",
        "    def play(self):\n",
        "        print(f\"Playing keys on the {self.piano_type} {self.name}\")\n",
        "\n",
        "# Demonstrate runtime polymorphism\n",
        "def perform_music(instrument):\n",
        "    # This function works with any class that has a play() method\n",
        "    # Runtime polymorphism occurs here as the correct play() method is called\n",
        "    # based on the actual object type at runtime\n",
        "    instrument.play()\n",
        "\n",
        "# Create instances of different instruments\n",
        "guitar = Guitar(\"Electric\")\n",
        "piano = Piano(\"Upright\")\n",
        "ukulele = Instrument(\"Ukulele\")\n",
        "\n",
        "# Store instruments in a list to demonstrate polymorphic behavior\n",
        "instruments = [guitar, piano, ukulele]\n",
        "\n",
        "# Call the same method on different objects and see different behaviors\n",
        "print(\"Demonstrating runtime polymorphism:\")\n",
        "for instrument in instruments:\n",
        "    perform_music(instrument)  # The correct version of play() is called based on the object type"
      ],
      "metadata": {
        "colab": {
          "base_uri": "https://localhost:8080/"
        },
        "id": "HHyX8a6QZn13",
        "outputId": "b7fc8614-574d-441e-a790-8074e38a9616"
      },
      "execution_count": 6,
      "outputs": [
        {
          "output_type": "stream",
          "name": "stdout",
          "text": [
            "Demonstrating runtime polymorphism:\n",
            "Strumming the Electric Guitar\n",
            "Playing keys on the Upright Piano\n",
            "Playing the Ukulele\n"
          ]
        }
      ]
    },
    {
      "cell_type": "code",
      "source": [
        "#Q7. Create a class MathOperations with a class method add_numbers() to add two numbers and a static method subtract_numbers() to subtract two numbers.\n",
        "class MathOperations:\n",
        "    @classmethod\n",
        "    def add_numbers(cls, a, b):\n",
        "        \"\"\"Class method to add two numbers\"\"\"\n",
        "        return a + b\n",
        "\n",
        "    @staticmethod\n",
        "    def subtract_numbers(a, b):\n",
        "        \"\"\"Static method to subtract two numbers\"\"\"\n",
        "        return a - b\n",
        "\n",
        "# Testing the class\n",
        "# Class method is called on the class\n",
        "print(f\"Addition using class method: {MathOperations.add_numbers(10, 5)}\")\n",
        "\n",
        "# Static method is called on the class\n",
        "print(f\"Subtraction using static method: {MathOperations.subtract_numbers(10, 5)}\")\n",
        "\n",
        "# Creating an instance and calling methods on it\n",
        "math_ops = MathOperations()\n",
        "print(f\"Addition using instance: {math_ops.add_numbers(20, 10)}\")\n",
        "print(f\"Subtraction using instance: {math_ops.subtract_numbers(20, 10)}\")"
      ],
      "metadata": {
        "colab": {
          "base_uri": "https://localhost:8080/"
        },
        "id": "ZlfKe-hYZs0l",
        "outputId": "6038a7a5-83f8-4384-cc5d-1d86c050baf2"
      },
      "execution_count": 7,
      "outputs": [
        {
          "output_type": "stream",
          "name": "stdout",
          "text": [
            "Addition using class method: 15\n",
            "Subtraction using static method: 5\n",
            "Addition using instance: 30\n",
            "Subtraction using instance: 10\n"
          ]
        }
      ]
    },
    {
      "cell_type": "code",
      "source": [
        "#Q8. Implement a class Person with a class method to count the total number of persons created.\n",
        "class Person:\n",
        "    # Class variable to keep track of the count of persons\n",
        "    count = 0\n",
        "\n",
        "    def __init__(self, name):\n",
        "        \"\"\"Initialize a new Person with a name\"\"\"\n",
        "        self.name = name\n",
        "        # Increment count when a new instance is created\n",
        "        Person.count += 1\n",
        "\n",
        "    @classmethod\n",
        "    def get_count(cls):\n",
        "        \"\"\"Class method to return the total number of persons created\"\"\"\n",
        "        return cls.count\n",
        "\n",
        "# Testing the Person class\n",
        "print(\"Initial count:\", Person.get_count())\n",
        "\n",
        "# Create some person instances\n",
        "person1 = Person(\"Alice\")\n",
        "person2 = Person(\"Bob\")\n",
        "person3 = Person(\"Charlie\")\n",
        "\n",
        "# Check the count after creating instances\n",
        "print(\"Count after creating 3 persons:\", Person.get_count())\n",
        "\n",
        "# Create more instances\n",
        "person4 = Person(\"David\")\n",
        "person5 = Person(\"Eve\")\n",
        "\n",
        "# Check the final count\n",
        "print(\"Final count:\", Person.get_count())"
      ],
      "metadata": {
        "colab": {
          "base_uri": "https://localhost:8080/"
        },
        "id": "tHD9kWPEZ0Wh",
        "outputId": "76f97c64-f8f1-40ab-a537-b82a25c9c370"
      },
      "execution_count": 8,
      "outputs": [
        {
          "output_type": "stream",
          "name": "stdout",
          "text": [
            "Initial count: 0\n",
            "Count after creating 3 persons: 3\n",
            "Final count: 5\n"
          ]
        }
      ]
    },
    {
      "cell_type": "code",
      "source": [
        "#Q9. Write a class Fraction with attributes numerator and denominator. Override the str method to display the fraction as \"numerator/denominator\".\n",
        "class Fraction:\n",
        "    def __init__(self, numerator, denominator):\n",
        "        \"\"\"Initialize a fraction with numerator and denominator\"\"\"\n",
        "        self.numerator = numerator\n",
        "        if denominator == 0:\n",
        "            raise ValueError(\"Denominator cannot be zero\")\n",
        "        self.denominator = denominator\n",
        "\n",
        "    def __str__(self):\n",
        "        \"\"\"Override the str method to display the fraction as 'numerator/denominator'\"\"\"\n",
        "        return f\"{self.numerator}/{self.denominator}\"\n",
        "\n",
        "# Testing the Fraction class\n",
        "f1 = Fraction(1, 2)\n",
        "f2 = Fraction(3, 4)\n",
        "f3 = Fraction(5, 6)\n",
        "\n",
        "print(f1)  # Should display: 1/2\n",
        "print(f2)  # Should display: 3/4\n",
        "print(f3)  # Should display: 5/6\n",
        "\n",
        "# You can also create improper fractions\n",
        "f4 = Fraction(5, 3)\n",
        "print(f4)  # Should display: 5/3\n",
        "\n",
        "# Or negative fractions\n",
        "f5 = Fraction(-1, 4)\n",
        "print(f5)  # Should display: -1/4"
      ],
      "metadata": {
        "colab": {
          "base_uri": "https://localhost:8080/"
        },
        "id": "4pe4IeSqZ8vk",
        "outputId": "e92b8009-4124-4e39-85e4-ad17499fee2a"
      },
      "execution_count": 9,
      "outputs": [
        {
          "output_type": "stream",
          "name": "stdout",
          "text": [
            "1/2\n",
            "3/4\n",
            "5/6\n",
            "5/3\n",
            "-1/4\n"
          ]
        }
      ]
    },
    {
      "cell_type": "code",
      "source": [
        "#Q10. Demonstrate operator overloading by creating a class Vector and overriding the add method to add two vectors.\n",
        "class Vector:\n",
        "    def __init__(self, components):\n",
        "        \"\"\"Initialize a vector with a list of components\"\"\"\n",
        "        self.components = components\n",
        "\n",
        "    def __add__(self, other):\n",
        "        \"\"\"Override the + operator to add two vectors\"\"\"\n",
        "        if len(self.components) != len(other.components):\n",
        "            raise ValueError(\"Vectors must have the same dimensions\")\n",
        "\n",
        "        # Add corresponding components\n",
        "        result = [self.components[i] + other.components[i] for i in range(len(self.components))]\n",
        "        return Vector(result)\n",
        "\n",
        "    def __str__(self):\n",
        "        \"\"\"String representation of the vector\"\"\"\n",
        "        return f\"Vector({self.components})\"\n",
        "\n",
        "# Testing the Vector class\n",
        "v1 = Vector([1, 2, 3])\n",
        "v2 = Vector([4, 5, 6])\n",
        "\n",
        "# Adding vectors using the + operator\n",
        "v3 = v1 + v2  # This calls v1.__add__(v2)\n",
        "\n",
        "print(v1)  # Should display: Vector([1, 2, 3])\n",
        "print(v2)  # Should display: Vector([4, 5, 6])\n",
        "print(v3)  # Should display: Vector([5, 7, 9])\n",
        "\n",
        "# Test with 2D vectors\n",
        "v4 = Vector([10, 20])\n",
        "v5 = Vector([30, 40])\n",
        "v6 = v4 + v5\n",
        "print(v6)  # Should display: Vector([40, 60])\n",
        "\n",
        "# Try with vectors of different dimensions\n",
        "try:\n",
        "    v7 = v1 + v4  # This should raise an error\n",
        "except ValueError as e:\n",
        "    print(f\"Error: {e}\")"
      ],
      "metadata": {
        "colab": {
          "base_uri": "https://localhost:8080/"
        },
        "id": "9Gg1PKoZaFV5",
        "outputId": "5bd27b71-76c2-4eeb-a743-acc2bed6a901"
      },
      "execution_count": 10,
      "outputs": [
        {
          "output_type": "stream",
          "name": "stdout",
          "text": [
            "Vector([1, 2, 3])\n",
            "Vector([4, 5, 6])\n",
            "Vector([5, 7, 9])\n",
            "Vector([40, 60])\n",
            "Error: Vectors must have the same dimensions\n"
          ]
        }
      ]
    },
    {
      "cell_type": "code",
      "source": [
        "#Q11. . Create a class Person with attributes name and age. Add a method greet() that prints \"Hello, my name is {name} and I am {age} years old.\"\n",
        "class Person:\n",
        "    def __init__(self, name, age):\n",
        "        \"\"\"Initialize a Person with a name and age\"\"\"\n",
        "        self.name = name\n",
        "        self.age = age\n",
        "\n",
        "    def greet(self):\n",
        "        \"\"\"Method that prints a greeting with the person's name and age\"\"\"\n",
        "        print(f\"Hello, my name is {self.name} and I am {self.age} years old.\")\n",
        "\n",
        "# Testing the Person class\n",
        "person1 = Person(\"John\", 30)\n",
        "person1.greet()  # Should display: Hello, my name is John and I am 30 years old.\n",
        "\n",
        "person2 = Person(\"Alice\", 25)\n",
        "person2.greet()  # Should display: Hello, my name is Alice and I am 25 years old."
      ],
      "metadata": {
        "colab": {
          "base_uri": "https://localhost:8080/"
        },
        "id": "ER8-fkYJaOwG",
        "outputId": "225a0aa8-4242-433e-e2f1-ee5b383f5803"
      },
      "execution_count": 11,
      "outputs": [
        {
          "output_type": "stream",
          "name": "stdout",
          "text": [
            "Hello, my name is John and I am 30 years old.\n",
            "Hello, my name is Alice and I am 25 years old.\n"
          ]
        }
      ]
    },
    {
      "cell_type": "code",
      "source": [
        "#Q12. Implement a class Student with attributes name and grades. Create a method average_grade() to compute the average of the grades.\n",
        "class Student:\n",
        "    def __init__(self, name, grades):\n",
        "        \"\"\"Initialize a Student with a name and list of grades\"\"\"\n",
        "        self.name = name\n",
        "        self.grades = grades\n",
        "\n",
        "    def average_grade(self):\n",
        "        \"\"\"Method to compute the average of the student's grades\"\"\"\n",
        "        if not self.grades:\n",
        "            return 0  # Return 0 for empty grades list to avoid division by zero\n",
        "        return sum(self.grades) / len(self.grades)\n",
        "\n",
        "# Testing the Student class\n",
        "student1 = Student(\"John\", [85, 90, 78, 92, 88])\n",
        "print(f\"{student1.name}'s average grade: {student1.average_grade()}\")\n",
        "\n",
        "student2 = Student(\"Alice\", [95, 92, 98, 99])\n",
        "print(f\"{student2.name}'s average grade: {student2.average_grade()}\")\n",
        "\n",
        "# Edge case: student with no grades\n",
        "student3 = Student(\"Bob\", [])\n",
        "print(f\"{student3.name}'s average grade: {student3.average_grade()}\")\n"
      ],
      "metadata": {
        "colab": {
          "base_uri": "https://localhost:8080/"
        },
        "id": "10mICAbkaVAC",
        "outputId": "977693e6-5ebf-4c86-ebda-1712a4d92966"
      },
      "execution_count": 15,
      "outputs": [
        {
          "output_type": "stream",
          "name": "stdout",
          "text": [
            "John's average grade: 86.6\n",
            "Alice's average grade: 96.0\n",
            "Bob's average grade: 0\n"
          ]
        }
      ]
    },
    {
      "cell_type": "code",
      "source": [
        "#Q13. Create a class Rectangle with methods set_dimensions() to set the dimensions and area() to calculate the area.\n",
        "class Rectangle:\n",
        "    def __init__(self):\n",
        "        \"\"\"Initialize Rectangle with default dimensions of 0\"\"\"\n",
        "        self.width = 0\n",
        "        self.height = 0\n",
        "\n",
        "    def set_dimensions(self, width, height):\n",
        "        \"\"\"Method to set the dimensions of the rectangle\"\"\"\n",
        "        self.width = width\n",
        "        self.height = height\n",
        "\n",
        "    def area(self):\n",
        "        \"\"\"Method to calculate the area of the rectangle\"\"\"\n",
        "        return self.width * self.height\n",
        "\n",
        "# Testing the Rectangle class\n",
        "rect1 = Rectangle()\n",
        "rect1.set_dimensions(5, 10)\n",
        "print(f\"Rectangle with dimensions {rect1.width}x{rect1.height} has area: {rect1.area()}\")\n",
        "\n",
        "rect2 = Rectangle()\n",
        "rect2.set_dimensions(7, 3)\n",
        "print(f\"Rectangle with dimensions {rect2.width}x{rect2.height} has area: {rect2.area()}\")\n",
        "\n",
        "# Test with zero dimensions\n",
        "rect3 = Rectangle()\n",
        "print(f\"Rectangle with default dimensions {rect3.width}x{rect3.height} has area: {rect3.area()}\")"
      ],
      "metadata": {
        "colab": {
          "base_uri": "https://localhost:8080/"
        },
        "id": "WDKLaKubal1W",
        "outputId": "7ed480d8-4c68-4087-ae5c-f304cf8dc9ab"
      },
      "execution_count": 16,
      "outputs": [
        {
          "output_type": "stream",
          "name": "stdout",
          "text": [
            "Rectangle with dimensions 5x10 has area: 50\n",
            "Rectangle with dimensions 7x3 has area: 21\n",
            "Rectangle with default dimensions 0x0 has area: 0\n"
          ]
        }
      ]
    },
    {
      "cell_type": "code",
      "source": [
        "#Q14. Create a class Employee with a method calculate_salary() that computes the salary based on hours worked and hourly rate. Create a derived class Manager that adds a bonus to the salary.\n",
        "class Employee:\n",
        "    def __init__(self, name, hourly_rate):\n",
        "        \"\"\"Initialize Employee with name and hourly rate\"\"\"\n",
        "        self.name = name\n",
        "        self.hourly_rate = hourly_rate\n",
        "        self.hours_worked = 0\n",
        "\n",
        "    def log_hours(self, hours):\n",
        "        \"\"\"Log hours worked by the employee\"\"\"\n",
        "        self.hours_worked += hours\n",
        "\n",
        "    def calculate_salary(self):\n",
        "        \"\"\"Calculate salary based on hours worked and hourly rate\"\"\"\n",
        "        return self.hours_worked * self.hourly_rate\n",
        "\n",
        "    def __str__(self):\n",
        "        return f\"{self.name}: {self.hours_worked} hours at ${self.hourly_rate}/hour = ${self.calculate_salary()}\"\n",
        "\n",
        "\n",
        "class Manager(Employee):\n",
        "    def __init__(self, name, hourly_rate, bonus):\n",
        "        \"\"\"Initialize Manager with name, hourly rate and bonus amount\"\"\"\n",
        "        super().__init__(name, hourly_rate)  # Call parent class constructor\n",
        "        self.bonus = bonus\n",
        "\n",
        "    def calculate_salary(self):\n",
        "        \"\"\"Override calculate_salary to add bonus to the base salary\"\"\"\n",
        "        base_salary = super().calculate_salary()  # Get the base salary calculation\n",
        "        return base_salary + self.bonus\n",
        "\n",
        "    def __str__(self):\n",
        "        return f\"Manager {self.name}: {self.hours_worked} hours at ${self.hourly_rate}/hour + ${self.bonus} bonus = ${self.calculate_salary()}\"\n",
        "\n",
        "\n",
        "# Testing the classes\n",
        "employee = Employee(\"John\", 15)\n",
        "employee.log_hours(40)\n",
        "print(employee)\n",
        "\n",
        "manager = Manager(\"Jane\", 25, 500)\n",
        "manager.log_hours(40)\n",
        "print(manager)"
      ],
      "metadata": {
        "colab": {
          "base_uri": "https://localhost:8080/"
        },
        "id": "oWOAvfFDatmy",
        "outputId": "3974e347-2a07-40c7-e8f5-d042900c362c"
      },
      "execution_count": 17,
      "outputs": [
        {
          "output_type": "stream",
          "name": "stdout",
          "text": [
            "John: 40 hours at $15/hour = $600\n",
            "Manager Jane: 40 hours at $25/hour + $500 bonus = $1500\n"
          ]
        }
      ]
    },
    {
      "cell_type": "code",
      "source": [
        "#Q15. Create a class Product with attributes name, price, and quantity. Implement a method total_price() that calculates the total price of the product.\n",
        "class Product:\n",
        "    def __init__(self, name, price, quantity):\n",
        "        \"\"\"Initialize Product with name, price, and quantity\"\"\"\n",
        "        self.name = name\n",
        "        self.price = price\n",
        "        self.quantity = quantity\n",
        "\n",
        "    def total_price(self):\n",
        "        \"\"\"Calculate the total price of the product based on price and quantity\"\"\"\n",
        "        return self.price * self.quantity\n",
        "\n",
        "    def __str__(self):\n",
        "        \"\"\"Return a string representation of the product\"\"\"\n",
        "        return f\"{self.name}: {self.quantity} units at ${self.price}/unit = ${self.total_price()}\"\n",
        "\n",
        "# Testing the Product class\n",
        "laptop = Product(\"Laptop\", 899.99, 2)\n",
        "print(laptop)\n",
        "\n",
        "headphones = Product(\"Headphones\", 59.99, 5)\n",
        "print(headphones)"
      ],
      "metadata": {
        "colab": {
          "base_uri": "https://localhost:8080/"
        },
        "id": "D05Kk4tla02g",
        "outputId": "95e6c002-4cca-4adb-dad9-5b104c65922b"
      },
      "execution_count": 18,
      "outputs": [
        {
          "output_type": "stream",
          "name": "stdout",
          "text": [
            "Laptop: 2 units at $899.99/unit = $1799.98\n",
            "Headphones: 5 units at $59.99/unit = $299.95\n"
          ]
        }
      ]
    },
    {
      "cell_type": "code",
      "source": [
        "#Q16. Create a class Animal with an abstract method sound(). Create two derived classes Cow and Sheep that implement the sound() method.\n",
        "from abc import ABC, abstractmethod\n",
        "\n",
        "class Animal(ABC):\n",
        "    \"\"\"Abstract class for animals with an abstract sound method\"\"\"\n",
        "\n",
        "    def __init__(self, name):\n",
        "        \"\"\"Initialize Animal with a name\"\"\"\n",
        "        self.name = name\n",
        "\n",
        "    @abstractmethod\n",
        "    def sound(self):\n",
        "        \"\"\"Abstract method that must be implemented by derived classes\"\"\"\n",
        "        pass\n",
        "\n",
        "    def __str__(self):\n",
        "        \"\"\"Return a string representation of the animal\"\"\"\n",
        "        return f\"{self.name} says {self.sound()}\"\n",
        "\n",
        "\n",
        "class Cow(Animal):\n",
        "    \"\"\"Cow class that inherits from Animal\"\"\"\n",
        "\n",
        "    def sound(self):\n",
        "        \"\"\"Implement the sound method for Cow\"\"\"\n",
        "        return \"Moo!\"\n",
        "\n",
        "\n",
        "class Sheep(Animal):\n",
        "    \"\"\"Sheep class that inherits from Animal\"\"\"\n",
        "\n",
        "    def sound(self):\n",
        "        \"\"\"Implement the sound method for Sheep\"\"\"\n",
        "        return \"Baa!\"\n",
        "\n",
        "\n",
        "# Testing the classes\n",
        "cow = Cow(\"Bessie\")\n",
        "sheep = Sheep(\"Fluffy\")\n",
        "\n",
        "print(cow)\n",
        "print(sheep)"
      ],
      "metadata": {
        "colab": {
          "base_uri": "https://localhost:8080/"
        },
        "id": "20QKxzY4a6o7",
        "outputId": "0b500ab8-a59f-4308-abf1-56bea14ddde1"
      },
      "execution_count": 19,
      "outputs": [
        {
          "output_type": "stream",
          "name": "stdout",
          "text": [
            "Bessie says Moo!\n",
            "Fluffy says Baa!\n"
          ]
        }
      ]
    },
    {
      "cell_type": "code",
      "source": [
        "#Q17. Create a class Book with attributes title, author, and year_published. Add a method get_book_info() that returns a formatted string with the book's details.\n",
        "class Book:\n",
        "    \"\"\"Class representing a book with title, author, and year published information\"\"\"\n",
        "\n",
        "    def __init__(self, title, author, year_published):\n",
        "        \"\"\"Initialize a Book with title, author, and year published\"\"\"\n",
        "        self.title = title\n",
        "        self.author = author\n",
        "        self.year_published = year_published\n",
        "\n",
        "    def get_book_info(self):\n",
        "        \"\"\"Returns a formatted string with the book's details\"\"\"\n",
        "        return f\"'{self.title}' by {self.author} ({self.year_published})\"\n",
        "\n",
        "# Testing the class\n",
        "book1 = Book(\"The Great Gatsby\", \"F. Scott Fitzgerald\", 1925)\n",
        "book2 = Book(\"To Kill a Mockingbird\", \"Harper Lee\", 1960)\n",
        "\n",
        "print(book1.get_book_info())\n",
        "print(book2.get_book_info())"
      ],
      "metadata": {
        "colab": {
          "base_uri": "https://localhost:8080/"
        },
        "id": "74VklN9kbNqI",
        "outputId": "96eab57f-fe6b-4f6e-899d-9177982295a3"
      },
      "execution_count": 20,
      "outputs": [
        {
          "output_type": "stream",
          "name": "stdout",
          "text": [
            "'The Great Gatsby' by F. Scott Fitzgerald (1925)\n",
            "'To Kill a Mockingbird' by Harper Lee (1960)\n"
          ]
        }
      ]
    },
    {
      "cell_type": "code",
      "source": [
        "#Q18. Create a class House with attributes address and price. Create a derived class Mansion that adds an attribute number_of_rooms.\n",
        "class House:\n",
        "    \"\"\"Class representing a house with address and price information\"\"\"\n",
        "\n",
        "    def __init__(self, address, price):\n",
        "        \"\"\"Initialize a House with address and price\"\"\"\n",
        "        self.address = address\n",
        "        self.price = price\n",
        "\n",
        "    def get_info(self):\n",
        "        \"\"\"Returns formatted information about the house\"\"\"\n",
        "        return f\"House at {self.address}, priced at ${self.price:,}\"\n",
        "\n",
        "\n",
        "class Mansion(House):\n",
        "    \"\"\"Class representing a mansion, derived from House with added number of rooms\"\"\"\n",
        "\n",
        "    def __init__(self, address, price, number_of_rooms):\n",
        "        \"\"\"Initialize a Mansion with address, price, and number of rooms\"\"\"\n",
        "        # Call the parent class constructor\n",
        "        super().__init__(address, price)\n",
        "        self.number_of_rooms = number_of_rooms\n",
        "\n",
        "    def get_info(self):\n",
        "        \"\"\"Returns formatted information about the mansion including rooms\"\"\"\n",
        "        return f\"Mansion at {self.address}, priced at ${self.price:,} with {self.number_of_rooms} rooms\"\n",
        "\n",
        "\n",
        "# Testing the classes\n",
        "house = House(\"123 Main St\", 250000)\n",
        "mansion = Mansion(\"456 Luxury Ave\", 2500000, 15)\n",
        "\n",
        "print(house.get_info())\n",
        "print(mansion.get_info())"
      ],
      "metadata": {
        "colab": {
          "base_uri": "https://localhost:8080/"
        },
        "id": "_bPpQkONbTbf",
        "outputId": "d00da4b9-78c7-4808-c7dc-6c6d174a2afd"
      },
      "execution_count": 21,
      "outputs": [
        {
          "output_type": "stream",
          "name": "stdout",
          "text": [
            "House at 123 Main St, priced at $250,000\n",
            "Mansion at 456 Luxury Ave, priced at $2,500,000 with 15 rooms\n"
          ]
        }
      ]
    }
  ]
}